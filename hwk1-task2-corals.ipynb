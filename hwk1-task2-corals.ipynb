{
 "cells": [
  {
   "cell_type": "code",
   "execution_count": 22,
   "metadata": {
    "deletable": false,
    "editable": false
   },
   "outputs": [
    {
     "ename": "ModuleNotFoundError",
     "evalue": "No module named 'otter'",
     "output_type": "error",
     "traceback": [
      "\u001b[0;31m---------------------------------------------------------------------------\u001b[0m",
      "\u001b[0;31mModuleNotFoundError\u001b[0m                       Traceback (most recent call last)",
      "\u001b[0;32m/tmp/ipykernel_1603733/1999663457.py\u001b[0m in \u001b[0;36m<module>\u001b[0;34m\u001b[0m\n\u001b[1;32m      1\u001b[0m \u001b[0;31m# Initialize Otter\u001b[0m\u001b[0;34m\u001b[0m\u001b[0;34m\u001b[0m\u001b[0;34m\u001b[0m\u001b[0m\n\u001b[0;32m----> 2\u001b[0;31m \u001b[0;32mimport\u001b[0m \u001b[0motter\u001b[0m\u001b[0;34m\u001b[0m\u001b[0;34m\u001b[0m\u001b[0m\n\u001b[0m\u001b[1;32m      3\u001b[0m \u001b[0mgrader\u001b[0m \u001b[0;34m=\u001b[0m \u001b[0motter\u001b[0m\u001b[0;34m.\u001b[0m\u001b[0mNotebook\u001b[0m\u001b[0;34m(\u001b[0m\u001b[0;34m\"hwk1-task2-corals.ipynb\"\u001b[0m\u001b[0;34m)\u001b[0m\u001b[0;34m\u001b[0m\u001b[0;34m\u001b[0m\u001b[0m\n",
      "\u001b[0;31mModuleNotFoundError\u001b[0m: No module named 'otter'"
     ]
    }
   ],
   "source": [
    "# Initialize Otter\n",
    "import otter\n",
    "grader = otter.Notebook(\"hwk1-task2-corals.ipynb\")"
   ]
  },
  {
   "cell_type": "markdown",
   "metadata": {},
   "source": [
    "# Task 2: Exploring coral diversity data\n",
    "\n",
    "## Instructions \n",
    "\n",
    "- First, update the following cell to have a link to *your* Homework 1 GitHub repository:\n"
   ]
  },
  {
   "cell_type": "markdown",
   "metadata": {},
   "source": [
    "**UPDATE THIS LINK:**\n",
    "\n",
    "https://github.com/jorb1/eds220-hwk1\n"
   ]
  },
  {
   "cell_type": "markdown",
   "metadata": {},
   "source": [
    "- This task covers topics on the lesson on [subsetting `pandas.DataFrames`](https://meds-eds-220.github.io/MEDS-eds-220-course/book/chapters/lesson-3-pandas-subsetting/lesson-3-pandas-subsetting.html). The best strategy to solve it is to get together with your classmates and work on it together after that lecture.\n",
    "\n",
    "- Review the [complete rubric for this task](https://docs.google.com/document/d/131OnUDOLpOl94SlaMU9nGqT998ABrjFS/edit?usp=sharing&ouid=111507336322611936333&rtpof=true&sd=true) before starting.\n",
    "\n",
    "- **Make at least 5 commits at moments you think are adequate.** We'll check your repository and view the commit history.\n",
    "\n",
    "- **Add comments for all your code.** Err on the side of commenting too much for now. Comments should follow best practices.\n",
    "\n",
    "- **Do not update the top cell with the `otter` import**, this is used internally for grading.\n",
    "\n"
   ]
  },
  {
   "cell_type": "markdown",
   "metadata": {
    "deletable": false,
    "editable": false
   },
   "source": [
    "<!-- BEGIN QUESTION -->\n",
    "\n",
    "\n",
    "## 1\n",
    "For this task we are going to use data about  [Western Indian Ocean Coral Diversity (McClanahan, 2023)](https://knb.ecoinformatics.org/view/doi%3A10.5063%2FF1K35S3H) from the Knowledge Network for Biocomplexity (KNB) data repository. \n",
    "\n",
    "a. Navigate to the dataset's link and explore the data package. \n",
    " \n",
    "b. Use the next markdown cell to add a brief description of the dataset, including a citation, date of access, and a link to the archive. \n"
   ]
  },
  {
   "cell_type": "markdown",
   "metadata": {},
   "source": [
    "Brief Description of Dataset:\n",
    "\n",
    "The abstract of the paper describes the goals and parameters of this data as such: \"Coral reefs are threatened by climate change, thus effective policies and management require spatial prioritization for conservation investments. Our aim was to develop a spatially explicit ecological model to predict current (2020) and future (2050) numbers of coral taxa at moderate scales [...] Four models explored: influences of climate change, water quality, direct human-resource extraction, and variable selection processes on numbers of coral taxa. [...]. Excess heat and rate of temperature rise variables used in the Intergovernmental Panel on Climate Change (IPCC) forecasts predict more negative effects on corals than our four models but shown here to have low to modest effects.\"\n",
    "\n",
    "Citation:\n",
    "\n",
    "Tim McClanahan. (2023). Western Indian Ocean Coral Diversity. Knowledge Network for Biocomplexity. doi:10.5063/F1K35S3H.\n",
    "\n",
    "Date of Access: \n",
    "\n",
    "10/8/2024\n",
    "\n",
    "Link to Archive: \n",
    "\n",
    "https://knb.ecoinformatics.org/view/doi%3A10.5063%2FF1K35S3H"
   ]
  },
  {
   "cell_type": "markdown",
   "metadata": {
    "deletable": false,
    "editable": false
   },
   "source": [
    "<!-- END QUESTION -->\n",
    "\n",
    "<!-- BEGIN QUESTION -->\n",
    "\n",
    "## 2\n",
    "In the next code cell, import the `pandas` package using standard abbreviation in a code cell.\n",
    "\n",
    "Read in the data from the URL using the `pd.read_csv` function and store it as `coral_div` like this:\n",
    "\n",
    "```\n",
    "# Read in data\n",
    "coral_div = pd.read_csv('the URL goes here')\n",
    "```"
   ]
  },
  {
   "cell_type": "code",
   "execution_count": 46,
   "metadata": {
    "tags": []
   },
   "outputs": [],
   "source": [
    "import pandas as pd # Import libraries\n",
    "coral_div = pd.read_csv('https://knb.ecoinformatics.org/knb/d1/mn/v2/object/urn%3Auuid%3Ae7d12a5a-f1a9-4a3e-aaa5-5222f67e799d') # Read in data"
   ]
  },
  {
   "cell_type": "markdown",
   "metadata": {
    "deletable": false,
    "editable": false
   },
   "source": [
    "<!-- END QUESTION -->\n",
    "\n",
    "## 3\n",
    "\n",
    "Use attributes and methods of the `coral_div` data frame to obtain the following information about it:\n",
    "\n",
    "Use the code cells marked a-e. For each, add a comment explaining what is the ouput."
   ]
  },
  {
   "cell_type": "markdown",
   "metadata": {
    "deletable": false,
    "editable": false
   },
   "source": [
    "a. how many rows and columns does it have? Store your answers in the `rows` and `columns` variables. "
   ]
  },
  {
   "cell_type": "code",
   "execution_count": 3,
   "metadata": {
    "tags": []
   },
   "outputs": [
    {
     "name": "stdout",
     "output_type": "stream",
     "text": [
      "575\n",
      "42\n"
     ]
    }
   ],
   "source": [
    "# a\n",
    "\n",
    "rows = coral_div.shape[0] # Will return the number of rows\n",
    "columns = coral_div.shape[1] # Will return the number of columns\n",
    "\n",
    "print(rows) \n",
    "print(columns)"
   ]
  },
  {
   "cell_type": "markdown",
   "metadata": {
    "deletable": false,
    "editable": false
   },
   "source": [
    "b. What are the column names? Store your answer in the `coral_div_columns` variable."
   ]
  },
  {
   "cell_type": "code",
   "execution_count": 4,
   "metadata": {
    "tags": []
   },
   "outputs": [
    {
     "name": "stdout",
     "output_type": "stream",
     "text": [
      "Index(['PU_ID', 'PU_Lat', 'PU_Lon', 'Number_of_genera', 'Country', 'Ecoregion',\n",
      "       'Management', 'Habitat', 'Observer', 'Depth', 'Coralcover',\n",
      "       'SSTRateofRise', 'PARmax', 'Calcite', 'Dis_oxygen', 'mean.waveNRJ',\n",
      "       'Salinity_mean', 'andrello_reef_value', 'andrello_nutrients',\n",
      "       'mean.npp', 'TT_market_hrs', 'TT_pop_hrs', 'cumDHW', 'SST_Kurtosis',\n",
      "       'SST_Median', 'ChlorA_median', 'andrello_sediments', 'Current_vel_mean',\n",
      "       'Diff_attenuation', 'Grav_NP', 'Grav_NC', 'PH', 'SST_bimodality',\n",
      "       'SST_Skewness', 'ClimateStressModel', 'Netflow', 'Indegree',\n",
      "       'Outdegree', 'Retention', 'min_yr', 'max_yr', 'no_replicates'],\n",
      "      dtype='object')\n"
     ]
    }
   ],
   "source": [
    "# b\n",
    "coral_div_columns = coral_div.columns # This will return the names of all the columns in the dataframe\n",
    "\n",
    "print(coral_div_columns)"
   ]
  },
  {
   "cell_type": "markdown",
   "metadata": {
    "deletable": false,
    "editable": false
   },
   "source": [
    "c. what are the data types of the columns? Store your answer in the `coral_div_types`."
   ]
  },
  {
   "cell_type": "code",
   "execution_count": 5,
   "metadata": {
    "tags": []
   },
   "outputs": [
    {
     "name": "stdout",
     "output_type": "stream",
     "text": [
      "PU_ID                    int64\n",
      "PU_Lat                 float64\n",
      "PU_Lon                 float64\n",
      "Number_of_genera         int64\n",
      "Country                 object\n",
      "Ecoregion               object\n",
      "Management              object\n",
      "Habitat                 object\n",
      "Observer                object\n",
      "Depth                  float64\n",
      "Coralcover               int64\n",
      "SSTRateofRise          float64\n",
      "PARmax                 float64\n",
      "Calcite                float64\n",
      "Dis_oxygen             float64\n",
      "mean.waveNRJ           float64\n",
      "Salinity_mean          float64\n",
      "andrello_reef_value      int64\n",
      "andrello_nutrients     float64\n",
      "mean.npp               float64\n",
      "TT_market_hrs          float64\n",
      "TT_pop_hrs             float64\n",
      "cumDHW                 float64\n",
      "SST_Kurtosis           float64\n",
      "SST_Median             float64\n",
      "ChlorA_median          float64\n",
      "andrello_sediments     float64\n",
      "Current_vel_mean       float64\n",
      "Diff_attenuation       float64\n",
      "Grav_NP                float64\n",
      "Grav_NC                float64\n",
      "PH                     float64\n",
      "SST_bimodality         float64\n",
      "SST_Skewness           float64\n",
      "ClimateStressModel     float64\n",
      "Netflow                float64\n",
      "Indegree               float64\n",
      "Outdegree              float64\n",
      "Retention              float64\n",
      "min_yr                   int64\n",
      "max_yr                   int64\n",
      "no_replicates            int64\n",
      "dtype: object\n"
     ]
    }
   ],
   "source": [
    "# c\n",
    "coral_div_types = coral_div.dtypes # This will return all of the columns in the dataframe and their data types\n",
    "\n",
    "print(coral_div_types)"
   ]
  },
  {
   "cell_type": "markdown",
   "metadata": {
    "deletable": false,
    "editable": false
   },
   "source": [
    "d. display the first 8 rows with all the column names. For this one, you will need to udpate a `pandas` option (HINT: check the first discussion section). Store your answer in the `first_8_rows` variable."
   ]
  },
  {
   "cell_type": "code",
   "execution_count": 6,
   "metadata": {
    "tags": []
   },
   "outputs": [],
   "source": [
    "# d\n",
    "first_8_rows = coral_div.head(8) # This will create a new dataframe from just the first 8 rows of the initial dataframe"
   ]
  },
  {
   "cell_type": "code",
   "execution_count": 7,
   "metadata": {
    "tags": []
   },
   "outputs": [
    {
     "data": {
      "text/html": [
       "<div>\n",
       "<style scoped>\n",
       "    .dataframe tbody tr th:only-of-type {\n",
       "        vertical-align: middle;\n",
       "    }\n",
       "\n",
       "    .dataframe tbody tr th {\n",
       "        vertical-align: top;\n",
       "    }\n",
       "\n",
       "    .dataframe thead th {\n",
       "        text-align: right;\n",
       "    }\n",
       "</style>\n",
       "<table border=\"1\" class=\"dataframe\">\n",
       "  <thead>\n",
       "    <tr style=\"text-align: right;\">\n",
       "      <th></th>\n",
       "      <th>PU_ID</th>\n",
       "      <th>PU_Lat</th>\n",
       "      <th>PU_Lon</th>\n",
       "      <th>Number_of_genera</th>\n",
       "      <th>Country</th>\n",
       "      <th>Ecoregion</th>\n",
       "      <th>Management</th>\n",
       "      <th>Habitat</th>\n",
       "      <th>Observer</th>\n",
       "      <th>Depth</th>\n",
       "      <th>...</th>\n",
       "      <th>SST_bimodality</th>\n",
       "      <th>SST_Skewness</th>\n",
       "      <th>ClimateStressModel</th>\n",
       "      <th>Netflow</th>\n",
       "      <th>Indegree</th>\n",
       "      <th>Outdegree</th>\n",
       "      <th>Retention</th>\n",
       "      <th>min_yr</th>\n",
       "      <th>max_yr</th>\n",
       "      <th>no_replicates</th>\n",
       "    </tr>\n",
       "  </thead>\n",
       "  <tbody>\n",
       "    <tr>\n",
       "      <th>0</th>\n",
       "      <td>7</td>\n",
       "      <td>39.076711</td>\n",
       "      <td>-5.490011</td>\n",
       "      <td>35</td>\n",
       "      <td>Tanzania</td>\n",
       "      <td>East African Coral Coast</td>\n",
       "      <td>UnfishedLow</td>\n",
       "      <td>Crest</td>\n",
       "      <td>Tim</td>\n",
       "      <td>11.0</td>\n",
       "      <td>...</td>\n",
       "      <td>0.462556</td>\n",
       "      <td>-0.128136</td>\n",
       "      <td>0.596375</td>\n",
       "      <td>0.144498</td>\n",
       "      <td>98.25</td>\n",
       "      <td>74.75</td>\n",
       "      <td>14.00</td>\n",
       "      <td>2019</td>\n",
       "      <td>2019</td>\n",
       "      <td>1</td>\n",
       "    </tr>\n",
       "    <tr>\n",
       "      <th>1</th>\n",
       "      <td>7</td>\n",
       "      <td>39.076711</td>\n",
       "      <td>-5.490011</td>\n",
       "      <td>22</td>\n",
       "      <td>Tanzania</td>\n",
       "      <td>East African Coral Coast</td>\n",
       "      <td>UnfishedLow</td>\n",
       "      <td>Lagoon/Back reef</td>\n",
       "      <td>Nyawira</td>\n",
       "      <td>2.0</td>\n",
       "      <td>...</td>\n",
       "      <td>0.462556</td>\n",
       "      <td>-0.128136</td>\n",
       "      <td>0.596375</td>\n",
       "      <td>0.144498</td>\n",
       "      <td>98.25</td>\n",
       "      <td>74.75</td>\n",
       "      <td>14.00</td>\n",
       "      <td>2010</td>\n",
       "      <td>2015</td>\n",
       "      <td>2</td>\n",
       "    </tr>\n",
       "    <tr>\n",
       "      <th>2</th>\n",
       "      <td>7</td>\n",
       "      <td>39.076711</td>\n",
       "      <td>-5.490011</td>\n",
       "      <td>25</td>\n",
       "      <td>Tanzania</td>\n",
       "      <td>East African Coral Coast</td>\n",
       "      <td>UnfishedLow</td>\n",
       "      <td>Slope</td>\n",
       "      <td>Nyawira</td>\n",
       "      <td>4.0</td>\n",
       "      <td>...</td>\n",
       "      <td>0.462556</td>\n",
       "      <td>-0.128136</td>\n",
       "      <td>0.596375</td>\n",
       "      <td>0.144498</td>\n",
       "      <td>98.25</td>\n",
       "      <td>74.75</td>\n",
       "      <td>14.00</td>\n",
       "      <td>2015</td>\n",
       "      <td>2015</td>\n",
       "      <td>1</td>\n",
       "    </tr>\n",
       "    <tr>\n",
       "      <th>3</th>\n",
       "      <td>7</td>\n",
       "      <td>39.076711</td>\n",
       "      <td>-5.490011</td>\n",
       "      <td>26</td>\n",
       "      <td>Tanzania</td>\n",
       "      <td>East African Coral Coast</td>\n",
       "      <td>UnfishedLow</td>\n",
       "      <td>Slope</td>\n",
       "      <td>Nyawira</td>\n",
       "      <td>3.0</td>\n",
       "      <td>...</td>\n",
       "      <td>0.462556</td>\n",
       "      <td>-0.128136</td>\n",
       "      <td>0.596375</td>\n",
       "      <td>0.144498</td>\n",
       "      <td>98.25</td>\n",
       "      <td>74.75</td>\n",
       "      <td>14.00</td>\n",
       "      <td>2016</td>\n",
       "      <td>2019</td>\n",
       "      <td>2</td>\n",
       "    </tr>\n",
       "    <tr>\n",
       "      <th>4</th>\n",
       "      <td>10</td>\n",
       "      <td>39.054253</td>\n",
       "      <td>-5.512514</td>\n",
       "      <td>27</td>\n",
       "      <td>Tanzania</td>\n",
       "      <td>East African Coral Coast</td>\n",
       "      <td>UnfishedLow</td>\n",
       "      <td>Lagoon/Back reef</td>\n",
       "      <td>Nyawira</td>\n",
       "      <td>1.5</td>\n",
       "      <td>...</td>\n",
       "      <td>0.461297</td>\n",
       "      <td>-0.134548</td>\n",
       "      <td>0.629000</td>\n",
       "      <td>0.011721</td>\n",
       "      <td>112.75</td>\n",
       "      <td>51.50</td>\n",
       "      <td>183.75</td>\n",
       "      <td>2010</td>\n",
       "      <td>2019</td>\n",
       "      <td>3</td>\n",
       "    </tr>\n",
       "    <tr>\n",
       "      <th>5</th>\n",
       "      <td>10</td>\n",
       "      <td>39.054253</td>\n",
       "      <td>-5.512514</td>\n",
       "      <td>29</td>\n",
       "      <td>Tanzania</td>\n",
       "      <td>East African Coral Coast</td>\n",
       "      <td>UnfishedLow</td>\n",
       "      <td>Lagoon/Back reef</td>\n",
       "      <td>Tim</td>\n",
       "      <td>1.5</td>\n",
       "      <td>...</td>\n",
       "      <td>0.461297</td>\n",
       "      <td>-0.134548</td>\n",
       "      <td>0.629000</td>\n",
       "      <td>0.011721</td>\n",
       "      <td>112.75</td>\n",
       "      <td>51.50</td>\n",
       "      <td>183.75</td>\n",
       "      <td>2015</td>\n",
       "      <td>2015</td>\n",
       "      <td>1</td>\n",
       "    </tr>\n",
       "    <tr>\n",
       "      <th>6</th>\n",
       "      <td>15</td>\n",
       "      <td>39.054253</td>\n",
       "      <td>-5.535017</td>\n",
       "      <td>19</td>\n",
       "      <td>Tanzania</td>\n",
       "      <td>East African Coral Coast</td>\n",
       "      <td>Restricted</td>\n",
       "      <td>Crest</td>\n",
       "      <td>Tim</td>\n",
       "      <td>8.0</td>\n",
       "      <td>...</td>\n",
       "      <td>0.461297</td>\n",
       "      <td>-0.134548</td>\n",
       "      <td>0.595600</td>\n",
       "      <td>0.011721</td>\n",
       "      <td>112.75</td>\n",
       "      <td>51.50</td>\n",
       "      <td>183.75</td>\n",
       "      <td>2019</td>\n",
       "      <td>2019</td>\n",
       "      <td>1</td>\n",
       "    </tr>\n",
       "    <tr>\n",
       "      <th>7</th>\n",
       "      <td>39</td>\n",
       "      <td>39.009337</td>\n",
       "      <td>-5.647518</td>\n",
       "      <td>28</td>\n",
       "      <td>Tanzania</td>\n",
       "      <td>East African Coral Coast</td>\n",
       "      <td>UnfishedLow</td>\n",
       "      <td>Lagoon/Back reef</td>\n",
       "      <td>Nyawira</td>\n",
       "      <td>3.0</td>\n",
       "      <td>...</td>\n",
       "      <td>0.464874</td>\n",
       "      <td>-0.158601</td>\n",
       "      <td>0.626000</td>\n",
       "      <td>-0.063087</td>\n",
       "      <td>96.50</td>\n",
       "      <td>40.75</td>\n",
       "      <td>35.75</td>\n",
       "      <td>2015</td>\n",
       "      <td>2019</td>\n",
       "      <td>3</td>\n",
       "    </tr>\n",
       "  </tbody>\n",
       "</table>\n",
       "<p>8 rows × 42 columns</p>\n",
       "</div>"
      ],
      "text/plain": [
       "   PU_ID     PU_Lat    PU_Lon  Number_of_genera   Country  \\\n",
       "0      7  39.076711 -5.490011                35  Tanzania   \n",
       "1      7  39.076711 -5.490011                22  Tanzania   \n",
       "2      7  39.076711 -5.490011                25  Tanzania   \n",
       "3      7  39.076711 -5.490011                26  Tanzania   \n",
       "4     10  39.054253 -5.512514                27  Tanzania   \n",
       "5     10  39.054253 -5.512514                29  Tanzania   \n",
       "6     15  39.054253 -5.535017                19  Tanzania   \n",
       "7     39  39.009337 -5.647518                28  Tanzania   \n",
       "\n",
       "                  Ecoregion   Management           Habitat Observer  Depth  \\\n",
       "0  East African Coral Coast  UnfishedLow             Crest      Tim   11.0   \n",
       "1  East African Coral Coast  UnfishedLow  Lagoon/Back reef  Nyawira    2.0   \n",
       "2  East African Coral Coast  UnfishedLow             Slope  Nyawira    4.0   \n",
       "3  East African Coral Coast  UnfishedLow             Slope  Nyawira    3.0   \n",
       "4  East African Coral Coast  UnfishedLow  Lagoon/Back reef  Nyawira    1.5   \n",
       "5  East African Coral Coast  UnfishedLow  Lagoon/Back reef      Tim    1.5   \n",
       "6  East African Coral Coast   Restricted             Crest      Tim    8.0   \n",
       "7  East African Coral Coast  UnfishedLow  Lagoon/Back reef  Nyawira    3.0   \n",
       "\n",
       "   ...  SST_bimodality  SST_Skewness  ClimateStressModel   Netflow  Indegree  \\\n",
       "0  ...        0.462556     -0.128136            0.596375  0.144498     98.25   \n",
       "1  ...        0.462556     -0.128136            0.596375  0.144498     98.25   \n",
       "2  ...        0.462556     -0.128136            0.596375  0.144498     98.25   \n",
       "3  ...        0.462556     -0.128136            0.596375  0.144498     98.25   \n",
       "4  ...        0.461297     -0.134548            0.629000  0.011721    112.75   \n",
       "5  ...        0.461297     -0.134548            0.629000  0.011721    112.75   \n",
       "6  ...        0.461297     -0.134548            0.595600  0.011721    112.75   \n",
       "7  ...        0.464874     -0.158601            0.626000 -0.063087     96.50   \n",
       "\n",
       "   Outdegree  Retention  min_yr  max_yr  no_replicates  \n",
       "0      74.75      14.00    2019    2019              1  \n",
       "1      74.75      14.00    2010    2015              2  \n",
       "2      74.75      14.00    2015    2015              1  \n",
       "3      74.75      14.00    2016    2019              2  \n",
       "4      51.50     183.75    2010    2019              3  \n",
       "5      51.50     183.75    2015    2015              1  \n",
       "6      51.50     183.75    2019    2019              1  \n",
       "7      40.75      35.75    2015    2019              3  \n",
       "\n",
       "[8 rows x 42 columns]"
      ]
     },
     "execution_count": 7,
     "metadata": {},
     "output_type": "execute_result"
    }
   ],
   "source": [
    "# View the dataframe \n",
    "first_8_rows # Simply typing the name of the new dataframe will return a view of it"
   ]
  },
  {
   "cell_type": "markdown",
   "metadata": {
    "deletable": false,
    "editable": false
   },
   "source": [
    "<!-- BEGIN QUESTION -->\n",
    "\n",
    "e. some other inital information you are interested in. "
   ]
  },
  {
   "cell_type": "code",
   "execution_count": 8,
   "metadata": {
    "tags": []
   },
   "outputs": [],
   "source": [
    "# I am curious to find out how many genera of corals there are per country. The different habitat types per type of coral is also interesting for me. "
   ]
  },
  {
   "cell_type": "markdown",
   "metadata": {
    "deletable": false,
    "editable": false
   },
   "source": [
    "<!-- END QUESTION -->\n",
    "\n",
    "<!-- BEGIN QUESTION -->\n",
    "\n",
    "## 4\n",
    "\n",
    "Some of the columns have data type `int64` and some have data type `float64`. What is the difference between these `int64` and `float64`?\n"
   ]
  },
  {
   "cell_type": "markdown",
   "metadata": {},
   "source": [
    "Data type `int64` are 64 bit integers. These are data efficient integer types that can only be whole numbers.\n",
    "\n",
    "Data type `float64` are 64 bit floating point numbers, that are data efficient and can be numbers with decimal points. "
   ]
  },
  {
   "cell_type": "markdown",
   "metadata": {
    "deletable": false,
    "editable": false
   },
   "source": [
    "<!-- END QUESTION -->\n",
    "\n",
    "<!-- BEGIN QUESTION -->\n",
    "\n",
    "## 5\n",
    "\n",
    "The `Country` column indicates the country where the coral reef is located. Explain, in your own words, what is the ouput of `coral_div['Country']` and `coral_div['Country'].unique()`. "
   ]
  },
  {
   "cell_type": "markdown",
   "metadata": {},
   "source": [
    "`coral_div['Country']` generates a dataframe that contains all of the country entries in the coral_div dataframe.\n",
    "\n",
    "`coral_div['Country'].unique()` generates an array containing each country mentioned in the coral_div dataframe. \n"
   ]
  },
  {
   "cell_type": "markdown",
   "metadata": {
    "deletable": false,
    "editable": false
   },
   "source": [
    "<!-- END QUESTION -->\n",
    "\n",
    "## 6\n",
    "\n",
    "Check the dataset's [metadata file README_md.doc](https://knb.ecoinformatics.org/view/doi:10.5063/F1K35S3H) to find which column has information about who made an observation. How many observers collected this data? HINT: Check this [method for `pandas.DataFrame`](https://pandas.pydata.org/docs/reference/api/pandas.DataFrame.nunique.html). Store your answer in the `unique_observers` variable."
   ]
  },
  {
   "cell_type": "code",
   "execution_count": 9,
   "metadata": {
    "tags": []
   },
   "outputs": [
    {
     "name": "stdout",
     "output_type": "stream",
     "text": [
      "16\n"
     ]
    }
   ],
   "source": [
    "unique_observers = coral_div['Observer'].nunique() # This will select the Observers column and generate a integer counting unique variables.\n",
    "\n",
    "print(unique_observers) # This prints the result, showing that there were 16 unique observers collecting this data. "
   ]
  },
  {
   "cell_type": "markdown",
   "metadata": {},
   "source": [
    "## 7\n",
    "\n",
    "The `Coralcover` column indicates the percent of hard coral cover in each 6 km reef cell surveyed. "
   ]
  },
  {
   "cell_type": "markdown",
   "metadata": {
    "deletable": false,
    "editable": false
   },
   "source": [
    "<!-- BEGIN QUESTION -->\n",
    "\n",
    "a)  Describe, in detail,  what kind of object `coral_div['Coralcover']>= 50` is."
   ]
  },
  {
   "cell_type": "markdown",
   "metadata": {},
   "source": [
    "Running this code returns an indexed boolean list. "
   ]
  },
  {
   "cell_type": "markdown",
   "metadata": {
    "deletable": false,
    "editable": false
   },
   "source": [
    "<!-- END QUESTION -->\n",
    "\n",
    "<!-- BEGIN QUESTION -->\n",
    "\n",
    "b) What data is `coral_div[coral_div['Coralcover'] >= 50]` selecting?"
   ]
  },
  {
   "cell_type": "markdown",
   "metadata": {},
   "source": [
    "It is selecting the coral cover that is greater than or equal to 50 or more percent of coral cover in each 6 km reef cell. "
   ]
  },
  {
   "cell_type": "markdown",
   "metadata": {
    "deletable": false,
    "editable": false
   },
   "source": [
    "<!-- END QUESTION -->\n",
    "\n",
    "## 8\n",
    "\n",
    "Use code to find if there are there any sites with a 30% coral cover in Tanzania. Store your answer in the `coral_cover` variable."
   ]
  },
  {
   "cell_type": "code",
   "execution_count": 13,
   "metadata": {
    "tags": []
   },
   "outputs": [],
   "source": [
    "coral_cover = coral_div[ (coral_div['Coralcover']==30) & (coral_div[\"Country\"]==\"Tanzania\")] # This code selects rows using multiple conditions; in this case, both coral cover and Tanzania are selected for"
   ]
  },
  {
   "cell_type": "code",
   "execution_count": 14,
   "metadata": {
    "tags": []
   },
   "outputs": [
    {
     "data": {
      "text/html": [
       "<div>\n",
       "<style scoped>\n",
       "    .dataframe tbody tr th:only-of-type {\n",
       "        vertical-align: middle;\n",
       "    }\n",
       "\n",
       "    .dataframe tbody tr th {\n",
       "        vertical-align: top;\n",
       "    }\n",
       "\n",
       "    .dataframe thead th {\n",
       "        text-align: right;\n",
       "    }\n",
       "</style>\n",
       "<table border=\"1\" class=\"dataframe\">\n",
       "  <thead>\n",
       "    <tr style=\"text-align: right;\">\n",
       "      <th></th>\n",
       "      <th>PU_ID</th>\n",
       "      <th>PU_Lat</th>\n",
       "      <th>PU_Lon</th>\n",
       "      <th>Number_of_genera</th>\n",
       "      <th>Country</th>\n",
       "      <th>Ecoregion</th>\n",
       "      <th>Management</th>\n",
       "      <th>Habitat</th>\n",
       "      <th>Observer</th>\n",
       "      <th>Depth</th>\n",
       "      <th>...</th>\n",
       "      <th>SST_bimodality</th>\n",
       "      <th>SST_Skewness</th>\n",
       "      <th>ClimateStressModel</th>\n",
       "      <th>Netflow</th>\n",
       "      <th>Indegree</th>\n",
       "      <th>Outdegree</th>\n",
       "      <th>Retention</th>\n",
       "      <th>min_yr</th>\n",
       "      <th>max_yr</th>\n",
       "      <th>no_replicates</th>\n",
       "    </tr>\n",
       "  </thead>\n",
       "  <tbody>\n",
       "    <tr>\n",
       "      <th>63</th>\n",
       "      <td>693</td>\n",
       "      <td>39.391121</td>\n",
       "      <td>-5.782490</td>\n",
       "      <td>10</td>\n",
       "      <td>Tanzania</td>\n",
       "      <td>East African Coral Coast</td>\n",
       "      <td>Fished</td>\n",
       "      <td>Lagoon/Back reef</td>\n",
       "      <td>Nyawira</td>\n",
       "      <td>5.000000</td>\n",
       "      <td>...</td>\n",
       "      <td>0.490512</td>\n",
       "      <td>-0.101724</td>\n",
       "      <td>0.655600</td>\n",
       "      <td>-0.309514</td>\n",
       "      <td>77.00</td>\n",
       "      <td>65.25</td>\n",
       "      <td>147.50</td>\n",
       "      <td>2018</td>\n",
       "      <td>2018</td>\n",
       "      <td>2</td>\n",
       "    </tr>\n",
       "    <tr>\n",
       "      <th>64</th>\n",
       "      <td>697</td>\n",
       "      <td>39.391121</td>\n",
       "      <td>-5.804983</td>\n",
       "      <td>22</td>\n",
       "      <td>Tanzania</td>\n",
       "      <td>East African Coral Coast</td>\n",
       "      <td>Fished</td>\n",
       "      <td>Lagoon/Back reef</td>\n",
       "      <td>Nyawira</td>\n",
       "      <td>9.166667</td>\n",
       "      <td>...</td>\n",
       "      <td>0.490769</td>\n",
       "      <td>-0.100365</td>\n",
       "      <td>0.683050</td>\n",
       "      <td>-0.309514</td>\n",
       "      <td>77.00</td>\n",
       "      <td>65.25</td>\n",
       "      <td>147.50</td>\n",
       "      <td>2010</td>\n",
       "      <td>2018</td>\n",
       "      <td>3</td>\n",
       "    </tr>\n",
       "    <tr>\n",
       "      <th>341</th>\n",
       "      <td>4294</td>\n",
       "      <td>39.211458</td>\n",
       "      <td>-4.814515</td>\n",
       "      <td>37</td>\n",
       "      <td>Tanzania</td>\n",
       "      <td>East African Coral Coast</td>\n",
       "      <td>Fished</td>\n",
       "      <td>Slope</td>\n",
       "      <td>Nyawira</td>\n",
       "      <td>11.000000</td>\n",
       "      <td>...</td>\n",
       "      <td>0.451293</td>\n",
       "      <td>-0.048992</td>\n",
       "      <td>0.608900</td>\n",
       "      <td>0.514920</td>\n",
       "      <td>46.00</td>\n",
       "      <td>49.50</td>\n",
       "      <td>82.75</td>\n",
       "      <td>2018</td>\n",
       "      <td>2018</td>\n",
       "      <td>1</td>\n",
       "    </tr>\n",
       "    <tr>\n",
       "      <th>342</th>\n",
       "      <td>4299</td>\n",
       "      <td>39.233916</td>\n",
       "      <td>-4.837043</td>\n",
       "      <td>26</td>\n",
       "      <td>Tanzania</td>\n",
       "      <td>East African Coral Coast</td>\n",
       "      <td>Fished</td>\n",
       "      <td>Slope</td>\n",
       "      <td>Nyawira</td>\n",
       "      <td>12.500000</td>\n",
       "      <td>...</td>\n",
       "      <td>0.451293</td>\n",
       "      <td>-0.048992</td>\n",
       "      <td>0.601725</td>\n",
       "      <td>0.514920</td>\n",
       "      <td>46.00</td>\n",
       "      <td>49.50</td>\n",
       "      <td>82.75</td>\n",
       "      <td>2018</td>\n",
       "      <td>2018</td>\n",
       "      <td>2</td>\n",
       "    </tr>\n",
       "    <tr>\n",
       "      <th>343</th>\n",
       "      <td>4302</td>\n",
       "      <td>39.211458</td>\n",
       "      <td>-4.859570</td>\n",
       "      <td>31</td>\n",
       "      <td>Tanzania</td>\n",
       "      <td>East African Coral Coast</td>\n",
       "      <td>Fished</td>\n",
       "      <td>Slope</td>\n",
       "      <td>Nyawira</td>\n",
       "      <td>7.000000</td>\n",
       "      <td>...</td>\n",
       "      <td>0.452402</td>\n",
       "      <td>-0.050477</td>\n",
       "      <td>0.595200</td>\n",
       "      <td>0.514920</td>\n",
       "      <td>46.00</td>\n",
       "      <td>49.50</td>\n",
       "      <td>82.75</td>\n",
       "      <td>2018</td>\n",
       "      <td>2018</td>\n",
       "      <td>1</td>\n",
       "    </tr>\n",
       "    <tr>\n",
       "      <th>344</th>\n",
       "      <td>4303</td>\n",
       "      <td>39.301290</td>\n",
       "      <td>-4.859570</td>\n",
       "      <td>23</td>\n",
       "      <td>Tanzania</td>\n",
       "      <td>East African Coral Coast</td>\n",
       "      <td>Fished</td>\n",
       "      <td>Slope</td>\n",
       "      <td>Nyawira</td>\n",
       "      <td>11.000000</td>\n",
       "      <td>...</td>\n",
       "      <td>0.453806</td>\n",
       "      <td>-0.048007</td>\n",
       "      <td>0.602300</td>\n",
       "      <td>0.514920</td>\n",
       "      <td>46.00</td>\n",
       "      <td>49.50</td>\n",
       "      <td>82.75</td>\n",
       "      <td>2018</td>\n",
       "      <td>2018</td>\n",
       "      <td>1</td>\n",
       "    </tr>\n",
       "    <tr>\n",
       "      <th>377</th>\n",
       "      <td>4906</td>\n",
       "      <td>39.660616</td>\n",
       "      <td>-4.972195</td>\n",
       "      <td>33</td>\n",
       "      <td>Tanzania</td>\n",
       "      <td>East African Coral Coast</td>\n",
       "      <td>Fished</td>\n",
       "      <td>Lagoon/Back reef</td>\n",
       "      <td>Nyawira</td>\n",
       "      <td>9.000000</td>\n",
       "      <td>...</td>\n",
       "      <td>0.488396</td>\n",
       "      <td>-0.074229</td>\n",
       "      <td>0.671900</td>\n",
       "      <td>0.156359</td>\n",
       "      <td>66.75</td>\n",
       "      <td>41.75</td>\n",
       "      <td>38.00</td>\n",
       "      <td>2013</td>\n",
       "      <td>2013</td>\n",
       "      <td>2</td>\n",
       "    </tr>\n",
       "    <tr>\n",
       "      <th>388</th>\n",
       "      <td>5049</td>\n",
       "      <td>39.615700</td>\n",
       "      <td>-5.490011</td>\n",
       "      <td>14</td>\n",
       "      <td>Tanzania</td>\n",
       "      <td>East African Coral Coast</td>\n",
       "      <td>Fished</td>\n",
       "      <td>Lagoon/Back reef</td>\n",
       "      <td>Nyawira</td>\n",
       "      <td>4.000000</td>\n",
       "      <td>...</td>\n",
       "      <td>0.489921</td>\n",
       "      <td>-0.109523</td>\n",
       "      <td>0.657000</td>\n",
       "      <td>-0.328399</td>\n",
       "      <td>93.25</td>\n",
       "      <td>57.25</td>\n",
       "      <td>650.25</td>\n",
       "      <td>2018</td>\n",
       "      <td>2018</td>\n",
       "      <td>1</td>\n",
       "    </tr>\n",
       "    <tr>\n",
       "      <th>389</th>\n",
       "      <td>5050</td>\n",
       "      <td>39.638158</td>\n",
       "      <td>-5.490011</td>\n",
       "      <td>18</td>\n",
       "      <td>Tanzania</td>\n",
       "      <td>East African Coral Coast</td>\n",
       "      <td>Fished</td>\n",
       "      <td>Lagoon/Back reef</td>\n",
       "      <td>Nyawira</td>\n",
       "      <td>6.000000</td>\n",
       "      <td>...</td>\n",
       "      <td>0.489921</td>\n",
       "      <td>-0.109523</td>\n",
       "      <td>0.618825</td>\n",
       "      <td>-0.328399</td>\n",
       "      <td>93.25</td>\n",
       "      <td>57.25</td>\n",
       "      <td>650.25</td>\n",
       "      <td>2018</td>\n",
       "      <td>2018</td>\n",
       "      <td>1</td>\n",
       "    </tr>\n",
       "  </tbody>\n",
       "</table>\n",
       "<p>9 rows × 42 columns</p>\n",
       "</div>"
      ],
      "text/plain": [
       "     PU_ID     PU_Lat    PU_Lon  Number_of_genera   Country  \\\n",
       "63     693  39.391121 -5.782490                10  Tanzania   \n",
       "64     697  39.391121 -5.804983                22  Tanzania   \n",
       "341   4294  39.211458 -4.814515                37  Tanzania   \n",
       "342   4299  39.233916 -4.837043                26  Tanzania   \n",
       "343   4302  39.211458 -4.859570                31  Tanzania   \n",
       "344   4303  39.301290 -4.859570                23  Tanzania   \n",
       "377   4906  39.660616 -4.972195                33  Tanzania   \n",
       "388   5049  39.615700 -5.490011                14  Tanzania   \n",
       "389   5050  39.638158 -5.490011                18  Tanzania   \n",
       "\n",
       "                    Ecoregion Management           Habitat Observer  \\\n",
       "63   East African Coral Coast     Fished  Lagoon/Back reef  Nyawira   \n",
       "64   East African Coral Coast     Fished  Lagoon/Back reef  Nyawira   \n",
       "341  East African Coral Coast     Fished             Slope  Nyawira   \n",
       "342  East African Coral Coast     Fished             Slope  Nyawira   \n",
       "343  East African Coral Coast     Fished             Slope  Nyawira   \n",
       "344  East African Coral Coast     Fished             Slope  Nyawira   \n",
       "377  East African Coral Coast     Fished  Lagoon/Back reef  Nyawira   \n",
       "388  East African Coral Coast     Fished  Lagoon/Back reef  Nyawira   \n",
       "389  East African Coral Coast     Fished  Lagoon/Back reef  Nyawira   \n",
       "\n",
       "         Depth  ...  SST_bimodality  SST_Skewness  ClimateStressModel  \\\n",
       "63    5.000000  ...        0.490512     -0.101724            0.655600   \n",
       "64    9.166667  ...        0.490769     -0.100365            0.683050   \n",
       "341  11.000000  ...        0.451293     -0.048992            0.608900   \n",
       "342  12.500000  ...        0.451293     -0.048992            0.601725   \n",
       "343   7.000000  ...        0.452402     -0.050477            0.595200   \n",
       "344  11.000000  ...        0.453806     -0.048007            0.602300   \n",
       "377   9.000000  ...        0.488396     -0.074229            0.671900   \n",
       "388   4.000000  ...        0.489921     -0.109523            0.657000   \n",
       "389   6.000000  ...        0.489921     -0.109523            0.618825   \n",
       "\n",
       "      Netflow  Indegree  Outdegree  Retention  min_yr  max_yr  no_replicates  \n",
       "63  -0.309514     77.00      65.25     147.50    2018    2018              2  \n",
       "64  -0.309514     77.00      65.25     147.50    2010    2018              3  \n",
       "341  0.514920     46.00      49.50      82.75    2018    2018              1  \n",
       "342  0.514920     46.00      49.50      82.75    2018    2018              2  \n",
       "343  0.514920     46.00      49.50      82.75    2018    2018              1  \n",
       "344  0.514920     46.00      49.50      82.75    2018    2018              1  \n",
       "377  0.156359     66.75      41.75      38.00    2013    2013              2  \n",
       "388 -0.328399     93.25      57.25     650.25    2018    2018              1  \n",
       "389 -0.328399     93.25      57.25     650.25    2018    2018              1  \n",
       "\n",
       "[9 rows x 42 columns]"
      ]
     },
     "execution_count": 14,
     "metadata": {},
     "output_type": "execute_result"
    }
   ],
   "source": [
    "# View the dataframe\n",
    "coral_cover # This will generate a view of the dataframe"
   ]
  },
  {
   "cell_type": "markdown",
   "metadata": {
    "deletable": false,
    "editable": false
   },
   "source": [
    "## 9\n",
    "\n",
    "We are interested in looking at the PH of sea water (`PH` column),  mean salinity (`Salinity_mean` column), and depth of survey location in meters (`Depth` column). Subset the data frame by selecting only these column. Store your answer in the `filtered_data` variable"
   ]
  },
  {
   "cell_type": "code",
   "execution_count": 23,
   "metadata": {
    "tags": []
   },
   "outputs": [],
   "source": [
    "filtered_data = coral_div[['PH', 'Salinity_mean', 'Depth']]"
   ]
  },
  {
   "cell_type": "code",
   "execution_count": 18,
   "metadata": {
    "deletable": false,
    "editable": false
   },
   "outputs": [
    {
     "data": {
      "text/html": [
       "<div>\n",
       "<style scoped>\n",
       "    .dataframe tbody tr th:only-of-type {\n",
       "        vertical-align: middle;\n",
       "    }\n",
       "\n",
       "    .dataframe tbody tr th {\n",
       "        vertical-align: top;\n",
       "    }\n",
       "\n",
       "    .dataframe thead th {\n",
       "        text-align: right;\n",
       "    }\n",
       "</style>\n",
       "<table border=\"1\" class=\"dataframe\">\n",
       "  <thead>\n",
       "    <tr style=\"text-align: right;\">\n",
       "      <th></th>\n",
       "      <th>PH</th>\n",
       "      <th>Salinity_mean</th>\n",
       "      <th>Depth</th>\n",
       "    </tr>\n",
       "  </thead>\n",
       "  <tbody>\n",
       "    <tr>\n",
       "      <th>0</th>\n",
       "      <td>8.2175</td>\n",
       "      <td>35.167646</td>\n",
       "      <td>11.00</td>\n",
       "    </tr>\n",
       "    <tr>\n",
       "      <th>1</th>\n",
       "      <td>8.2175</td>\n",
       "      <td>35.167646</td>\n",
       "      <td>2.00</td>\n",
       "    </tr>\n",
       "    <tr>\n",
       "      <th>2</th>\n",
       "      <td>8.2175</td>\n",
       "      <td>35.167646</td>\n",
       "      <td>4.00</td>\n",
       "    </tr>\n",
       "    <tr>\n",
       "      <th>3</th>\n",
       "      <td>8.2175</td>\n",
       "      <td>35.167646</td>\n",
       "      <td>3.00</td>\n",
       "    </tr>\n",
       "    <tr>\n",
       "      <th>4</th>\n",
       "      <td>8.2180</td>\n",
       "      <td>35.102688</td>\n",
       "      <td>1.50</td>\n",
       "    </tr>\n",
       "    <tr>\n",
       "      <th>...</th>\n",
       "      <td>...</td>\n",
       "      <td>...</td>\n",
       "      <td>...</td>\n",
       "    </tr>\n",
       "    <tr>\n",
       "      <th>570</th>\n",
       "      <td>8.2400</td>\n",
       "      <td>35.301208</td>\n",
       "      <td>15.50</td>\n",
       "    </tr>\n",
       "    <tr>\n",
       "      <th>571</th>\n",
       "      <td>8.2400</td>\n",
       "      <td>35.301208</td>\n",
       "      <td>12.00</td>\n",
       "    </tr>\n",
       "    <tr>\n",
       "      <th>572</th>\n",
       "      <td>8.2400</td>\n",
       "      <td>35.301208</td>\n",
       "      <td>12.60</td>\n",
       "    </tr>\n",
       "    <tr>\n",
       "      <th>573</th>\n",
       "      <td>8.2400</td>\n",
       "      <td>35.301208</td>\n",
       "      <td>13.00</td>\n",
       "    </tr>\n",
       "    <tr>\n",
       "      <th>574</th>\n",
       "      <td>8.2400</td>\n",
       "      <td>35.301208</td>\n",
       "      <td>13.47</td>\n",
       "    </tr>\n",
       "  </tbody>\n",
       "</table>\n",
       "<p>575 rows × 3 columns</p>\n",
       "</div>"
      ],
      "text/plain": [
       "         PH  Salinity_mean  Depth\n",
       "0    8.2175      35.167646  11.00\n",
       "1    8.2175      35.167646   2.00\n",
       "2    8.2175      35.167646   4.00\n",
       "3    8.2175      35.167646   3.00\n",
       "4    8.2180      35.102688   1.50\n",
       "..      ...            ...    ...\n",
       "570  8.2400      35.301208  15.50\n",
       "571  8.2400      35.301208  12.00\n",
       "572  8.2400      35.301208  12.60\n",
       "573  8.2400      35.301208  13.00\n",
       "574  8.2400      35.301208  13.47\n",
       "\n",
       "[575 rows x 3 columns]"
      ]
     },
     "execution_count": 18,
     "metadata": {},
     "output_type": "execute_result"
    }
   ],
   "source": [
    "# View the dataframe\n",
    "filtered_data"
   ]
  },
  {
   "cell_type": "markdown",
   "metadata": {
    "deletable": false,
    "editable": false
   },
   "source": [
    "## 10\n",
    "The `max_yr` column indicates the year of last sampling at a given site. Select the PH, salinity, and depth for sites where sampling ended in 2017. Store your answer in the `sampling_2017` variable. \n"
   ]
  },
  {
   "cell_type": "code",
   "execution_count": 30,
   "metadata": {
    "tags": []
   },
   "outputs": [],
   "source": [
    "sampling_2017 = coral_div.loc[coral_div['max_yr']<=2017, ['PH', 'Salinity_mean', 'Depth', 'max_yr']] # This selects rows and columns simultaneously by labels and conditions"
   ]
  },
  {
   "cell_type": "code",
   "execution_count": 31,
   "metadata": {
    "tags": []
   },
   "outputs": [
    {
     "data": {
      "text/html": [
       "<div>\n",
       "<style scoped>\n",
       "    .dataframe tbody tr th:only-of-type {\n",
       "        vertical-align: middle;\n",
       "    }\n",
       "\n",
       "    .dataframe tbody tr th {\n",
       "        vertical-align: top;\n",
       "    }\n",
       "\n",
       "    .dataframe thead th {\n",
       "        text-align: right;\n",
       "    }\n",
       "</style>\n",
       "<table border=\"1\" class=\"dataframe\">\n",
       "  <thead>\n",
       "    <tr style=\"text-align: right;\">\n",
       "      <th></th>\n",
       "      <th>PH</th>\n",
       "      <th>Salinity_mean</th>\n",
       "      <th>Depth</th>\n",
       "      <th>max_yr</th>\n",
       "    </tr>\n",
       "  </thead>\n",
       "  <tbody>\n",
       "    <tr>\n",
       "      <th>1</th>\n",
       "      <td>8.2175</td>\n",
       "      <td>35.167646</td>\n",
       "      <td>2.000000</td>\n",
       "      <td>2015</td>\n",
       "    </tr>\n",
       "    <tr>\n",
       "      <th>2</th>\n",
       "      <td>8.2175</td>\n",
       "      <td>35.167646</td>\n",
       "      <td>4.000000</td>\n",
       "      <td>2015</td>\n",
       "    </tr>\n",
       "    <tr>\n",
       "      <th>5</th>\n",
       "      <td>8.2180</td>\n",
       "      <td>35.102688</td>\n",
       "      <td>1.500000</td>\n",
       "      <td>2015</td>\n",
       "    </tr>\n",
       "    <tr>\n",
       "      <th>8</th>\n",
       "      <td>8.2185</td>\n",
       "      <td>35.106329</td>\n",
       "      <td>6.500000</td>\n",
       "      <td>2015</td>\n",
       "    </tr>\n",
       "    <tr>\n",
       "      <th>10</th>\n",
       "      <td>8.2170</td>\n",
       "      <td>35.105648</td>\n",
       "      <td>2.000000</td>\n",
       "      <td>2005</td>\n",
       "    </tr>\n",
       "    <tr>\n",
       "      <th>...</th>\n",
       "      <td>...</td>\n",
       "      <td>...</td>\n",
       "      <td>...</td>\n",
       "      <td>...</td>\n",
       "    </tr>\n",
       "    <tr>\n",
       "      <th>569</th>\n",
       "      <td>8.2400</td>\n",
       "      <td>35.301208</td>\n",
       "      <td>13.833333</td>\n",
       "      <td>2017</td>\n",
       "    </tr>\n",
       "    <tr>\n",
       "      <th>570</th>\n",
       "      <td>8.2400</td>\n",
       "      <td>35.301208</td>\n",
       "      <td>15.500000</td>\n",
       "      <td>2016</td>\n",
       "    </tr>\n",
       "    <tr>\n",
       "      <th>571</th>\n",
       "      <td>8.2400</td>\n",
       "      <td>35.301208</td>\n",
       "      <td>12.000000</td>\n",
       "      <td>2007</td>\n",
       "    </tr>\n",
       "    <tr>\n",
       "      <th>572</th>\n",
       "      <td>8.2400</td>\n",
       "      <td>35.301208</td>\n",
       "      <td>12.600000</td>\n",
       "      <td>2007</td>\n",
       "    </tr>\n",
       "    <tr>\n",
       "      <th>574</th>\n",
       "      <td>8.2400</td>\n",
       "      <td>35.301208</td>\n",
       "      <td>13.470000</td>\n",
       "      <td>2017</td>\n",
       "    </tr>\n",
       "  </tbody>\n",
       "</table>\n",
       "<p>429 rows × 4 columns</p>\n",
       "</div>"
      ],
      "text/plain": [
       "         PH  Salinity_mean      Depth  max_yr\n",
       "1    8.2175      35.167646   2.000000    2015\n",
       "2    8.2175      35.167646   4.000000    2015\n",
       "5    8.2180      35.102688   1.500000    2015\n",
       "8    8.2185      35.106329   6.500000    2015\n",
       "10   8.2170      35.105648   2.000000    2005\n",
       "..      ...            ...        ...     ...\n",
       "569  8.2400      35.301208  13.833333    2017\n",
       "570  8.2400      35.301208  15.500000    2016\n",
       "571  8.2400      35.301208  12.000000    2007\n",
       "572  8.2400      35.301208  12.600000    2007\n",
       "574  8.2400      35.301208  13.470000    2017\n",
       "\n",
       "[429 rows x 4 columns]"
      ]
     },
     "execution_count": 31,
     "metadata": {},
     "output_type": "execute_result"
    }
   ],
   "source": [
    "# View the dataframe \n",
    "sampling_2017 # This will return a view of the dataframe"
   ]
  },
  {
   "cell_type": "markdown",
   "metadata": {
    "deletable": false,
    "editable": false
   },
   "source": [
    "## 11\n",
    "Use `iloc` to select rows 95 throuhg 100 (including 100) in the 17th, 20th, and 28th columns and assign these values to a new variable called `subset`. View the new `subset` dataframe.\n",
    "\n",
    "HINT: the ouput columns should be `Salinity_mean`, `mean.npp` and `Current_vel_mean`. Make sure you are indexing from 0."
   ]
  },
  {
   "cell_type": "code",
   "execution_count": 43,
   "metadata": {
    "tags": []
   },
   "outputs": [],
   "source": [
    "subset = coral_div.iloc[95:101, [17,20,28]] # I don't know why my output columns are wrong, ugh."
   ]
  },
  {
   "cell_type": "code",
   "execution_count": 42,
   "metadata": {
    "tags": []
   },
   "outputs": [
    {
     "data": {
      "text/html": [
       "<div>\n",
       "<style scoped>\n",
       "    .dataframe tbody tr th:only-of-type {\n",
       "        vertical-align: middle;\n",
       "    }\n",
       "\n",
       "    .dataframe tbody tr th {\n",
       "        vertical-align: top;\n",
       "    }\n",
       "\n",
       "    .dataframe thead th {\n",
       "        text-align: right;\n",
       "    }\n",
       "</style>\n",
       "<table border=\"1\" class=\"dataframe\">\n",
       "  <thead>\n",
       "    <tr style=\"text-align: right;\">\n",
       "      <th></th>\n",
       "      <th>andrello_reef_value</th>\n",
       "      <th>TT_market_hrs</th>\n",
       "      <th>Diff_attenuation</th>\n",
       "    </tr>\n",
       "  </thead>\n",
       "  <tbody>\n",
       "    <tr>\n",
       "      <th>95</th>\n",
       "      <td>1026</td>\n",
       "      <td>1.766667</td>\n",
       "      <td>0.197</td>\n",
       "    </tr>\n",
       "    <tr>\n",
       "      <th>96</th>\n",
       "      <td>1222</td>\n",
       "      <td>0.450000</td>\n",
       "      <td>0.105</td>\n",
       "    </tr>\n",
       "    <tr>\n",
       "      <th>97</th>\n",
       "      <td>1222</td>\n",
       "      <td>0.450000</td>\n",
       "      <td>0.090</td>\n",
       "    </tr>\n",
       "    <tr>\n",
       "      <th>98</th>\n",
       "      <td>1222</td>\n",
       "      <td>0.450000</td>\n",
       "      <td>0.090</td>\n",
       "    </tr>\n",
       "    <tr>\n",
       "      <th>99</th>\n",
       "      <td>1611</td>\n",
       "      <td>0.783333</td>\n",
       "      <td>0.075</td>\n",
       "    </tr>\n",
       "    <tr>\n",
       "      <th>100</th>\n",
       "      <td>1611</td>\n",
       "      <td>0.783333</td>\n",
       "      <td>0.075</td>\n",
       "    </tr>\n",
       "  </tbody>\n",
       "</table>\n",
       "</div>"
      ],
      "text/plain": [
       "     andrello_reef_value  TT_market_hrs  Diff_attenuation\n",
       "95                  1026       1.766667             0.197\n",
       "96                  1222       0.450000             0.105\n",
       "97                  1222       0.450000             0.090\n",
       "98                  1222       0.450000             0.090\n",
       "99                  1611       0.783333             0.075\n",
       "100                 1611       0.783333             0.075"
      ]
     },
     "execution_count": 42,
     "metadata": {},
     "output_type": "execute_result"
    }
   ],
   "source": [
    "# View the dataframe\n",
    "subset"
   ]
  },
  {
   "cell_type": "markdown",
   "metadata": {
    "deletable": false,
    "editable": false
   },
   "source": [
    "<!-- BEGIN QUESTION -->\n",
    "\n",
    "## 12 \n",
    "\n",
    "Run `subset.isna()`. Explain what this code does and what the output represents."
   ]
  },
  {
   "cell_type": "code",
   "execution_count": 32,
   "metadata": {
    "tags": []
   },
   "outputs": [
    {
     "data": {
      "text/html": [
       "<div>\n",
       "<style scoped>\n",
       "    .dataframe tbody tr th:only-of-type {\n",
       "        vertical-align: middle;\n",
       "    }\n",
       "\n",
       "    .dataframe tbody tr th {\n",
       "        vertical-align: top;\n",
       "    }\n",
       "\n",
       "    .dataframe thead th {\n",
       "        text-align: right;\n",
       "    }\n",
       "</style>\n",
       "<table border=\"1\" class=\"dataframe\">\n",
       "  <thead>\n",
       "    <tr style=\"text-align: right;\">\n",
       "      <th></th>\n",
       "      <th>andrello_reef_value</th>\n",
       "      <th>TT_market_hrs</th>\n",
       "      <th>Diff_attenuation</th>\n",
       "    </tr>\n",
       "  </thead>\n",
       "  <tbody>\n",
       "    <tr>\n",
       "      <th>95</th>\n",
       "      <td>False</td>\n",
       "      <td>False</td>\n",
       "      <td>False</td>\n",
       "    </tr>\n",
       "    <tr>\n",
       "      <th>96</th>\n",
       "      <td>False</td>\n",
       "      <td>False</td>\n",
       "      <td>False</td>\n",
       "    </tr>\n",
       "    <tr>\n",
       "      <th>97</th>\n",
       "      <td>False</td>\n",
       "      <td>False</td>\n",
       "      <td>False</td>\n",
       "    </tr>\n",
       "    <tr>\n",
       "      <th>98</th>\n",
       "      <td>False</td>\n",
       "      <td>False</td>\n",
       "      <td>False</td>\n",
       "    </tr>\n",
       "    <tr>\n",
       "      <th>99</th>\n",
       "      <td>False</td>\n",
       "      <td>False</td>\n",
       "      <td>False</td>\n",
       "    </tr>\n",
       "    <tr>\n",
       "      <th>100</th>\n",
       "      <td>False</td>\n",
       "      <td>False</td>\n",
       "      <td>False</td>\n",
       "    </tr>\n",
       "  </tbody>\n",
       "</table>\n",
       "</div>"
      ],
      "text/plain": [
       "     andrello_reef_value  TT_market_hrs  Diff_attenuation\n",
       "95                 False          False             False\n",
       "96                 False          False             False\n",
       "97                 False          False             False\n",
       "98                 False          False             False\n",
       "99                 False          False             False\n",
       "100                False          False             False"
      ]
     },
     "execution_count": 32,
     "metadata": {},
     "output_type": "execute_result"
    }
   ],
   "source": [
    "subset.isna() # This is a dataframe will boolean series returned. This is essentially telling us where the data is NA (True) or not NA (False)"
   ]
  },
  {
   "cell_type": "markdown",
   "metadata": {
    "deletable": false,
    "editable": false
   },
   "source": [
    "<!-- END QUESTION -->\n",
    "\n",
    "<!-- BEGIN QUESTION -->\n",
    "\n",
    "## 13\n",
    "Run `subset.isna().any()`. Explain in your own words what this code does and what the output represents. HINT: check the [documentation of `pandas.Sries.any`](https://pandas.pydata.org/docs/reference/api/pandas.Series.any.html).\n"
   ]
  },
  {
   "cell_type": "code",
   "execution_count": 33,
   "metadata": {
    "tags": []
   },
   "outputs": [
    {
     "data": {
      "text/plain": [
       "andrello_reef_value    False\n",
       "TT_market_hrs          False\n",
       "Diff_attenuation       False\n",
       "dtype: bool"
      ]
     },
     "execution_count": 33,
     "metadata": {},
     "output_type": "execute_result"
    }
   ],
   "source": [
    "subset.isna().any() # This determines if ANY element is true. In this case, no elements are NA in these columns"
   ]
  },
  {
   "cell_type": "markdown",
   "metadata": {
    "deletable": false,
    "editable": false
   },
   "source": [
    "<!-- END QUESTION -->\n",
    "\n",
    "## 14 \n",
    "\n",
    "Select the rows in `subset` that have NA in the `Current_vel_mean` column. Store your answer in the `subset_na` variable."
   ]
  },
  {
   "cell_type": "code",
   "execution_count": 34,
   "metadata": {
    "jp-MarkdownHeadingCollapsed": true,
    "tags": []
   },
   "outputs": [
    {
     "ename": "KeyError",
     "evalue": "'Current_vel_mean'",
     "output_type": "error",
     "traceback": [
      "\u001b[0;31m---------------------------------------------------------------------------\u001b[0m",
      "\u001b[0;31mKeyError\u001b[0m                                  Traceback (most recent call last)",
      "\u001b[0;32m/opt/python/3.7.13/lib/python3.7/site-packages/pandas/core/indexes/base.py\u001b[0m in \u001b[0;36mget_loc\u001b[0;34m(self, key, method, tolerance)\u001b[0m\n\u001b[1;32m   3360\u001b[0m             \u001b[0;32mtry\u001b[0m\u001b[0;34m:\u001b[0m\u001b[0;34m\u001b[0m\u001b[0;34m\u001b[0m\u001b[0m\n\u001b[0;32m-> 3361\u001b[0;31m                 \u001b[0;32mreturn\u001b[0m \u001b[0mself\u001b[0m\u001b[0;34m.\u001b[0m\u001b[0m_engine\u001b[0m\u001b[0;34m.\u001b[0m\u001b[0mget_loc\u001b[0m\u001b[0;34m(\u001b[0m\u001b[0mcasted_key\u001b[0m\u001b[0;34m)\u001b[0m\u001b[0;34m\u001b[0m\u001b[0;34m\u001b[0m\u001b[0m\n\u001b[0m\u001b[1;32m   3362\u001b[0m             \u001b[0;32mexcept\u001b[0m \u001b[0mKeyError\u001b[0m \u001b[0;32mas\u001b[0m \u001b[0merr\u001b[0m\u001b[0;34m:\u001b[0m\u001b[0;34m\u001b[0m\u001b[0;34m\u001b[0m\u001b[0m\n",
      "\u001b[0;32m/opt/python/3.7.13/lib/python3.7/site-packages/pandas/_libs/index.pyx\u001b[0m in \u001b[0;36mpandas._libs.index.IndexEngine.get_loc\u001b[0;34m()\u001b[0m\n",
      "\u001b[0;32m/opt/python/3.7.13/lib/python3.7/site-packages/pandas/_libs/index.pyx\u001b[0m in \u001b[0;36mpandas._libs.index.IndexEngine.get_loc\u001b[0;34m()\u001b[0m\n",
      "\u001b[0;32mpandas/_libs/hashtable_class_helper.pxi\u001b[0m in \u001b[0;36mpandas._libs.hashtable.PyObjectHashTable.get_item\u001b[0;34m()\u001b[0m\n",
      "\u001b[0;32mpandas/_libs/hashtable_class_helper.pxi\u001b[0m in \u001b[0;36mpandas._libs.hashtable.PyObjectHashTable.get_item\u001b[0;34m()\u001b[0m\n",
      "\u001b[0;31mKeyError\u001b[0m: 'Current_vel_mean'",
      "\nThe above exception was the direct cause of the following exception:\n",
      "\u001b[0;31mKeyError\u001b[0m                                  Traceback (most recent call last)",
      "\u001b[0;32m/tmp/ipykernel_1624279/2741805989.py\u001b[0m in \u001b[0;36m<module>\u001b[0;34m\u001b[0m\n\u001b[0;32m----> 1\u001b[0;31m \u001b[0msubset_na\u001b[0m \u001b[0;34m=\u001b[0m \u001b[0msubset\u001b[0m\u001b[0;34m[\u001b[0m\u001b[0msubset\u001b[0m\u001b[0;34m[\u001b[0m\u001b[0;34m'Current_vel_mean'\u001b[0m\u001b[0;34m]\u001b[0m\u001b[0;34m.\u001b[0m\u001b[0misna\u001b[0m\u001b[0;34m(\u001b[0m\u001b[0;34m)\u001b[0m\u001b[0;34m]\u001b[0m\u001b[0;34m\u001b[0m\u001b[0;34m\u001b[0m\u001b[0m\n\u001b[0m",
      "\u001b[0;32m/opt/python/3.7.13/lib/python3.7/site-packages/pandas/core/frame.py\u001b[0m in \u001b[0;36m__getitem__\u001b[0;34m(self, key)\u001b[0m\n\u001b[1;32m   3456\u001b[0m             \u001b[0;32mif\u001b[0m \u001b[0mself\u001b[0m\u001b[0;34m.\u001b[0m\u001b[0mcolumns\u001b[0m\u001b[0;34m.\u001b[0m\u001b[0mnlevels\u001b[0m \u001b[0;34m>\u001b[0m \u001b[0;36m1\u001b[0m\u001b[0;34m:\u001b[0m\u001b[0;34m\u001b[0m\u001b[0;34m\u001b[0m\u001b[0m\n\u001b[1;32m   3457\u001b[0m                 \u001b[0;32mreturn\u001b[0m \u001b[0mself\u001b[0m\u001b[0;34m.\u001b[0m\u001b[0m_getitem_multilevel\u001b[0m\u001b[0;34m(\u001b[0m\u001b[0mkey\u001b[0m\u001b[0;34m)\u001b[0m\u001b[0;34m\u001b[0m\u001b[0;34m\u001b[0m\u001b[0m\n\u001b[0;32m-> 3458\u001b[0;31m             \u001b[0mindexer\u001b[0m \u001b[0;34m=\u001b[0m \u001b[0mself\u001b[0m\u001b[0;34m.\u001b[0m\u001b[0mcolumns\u001b[0m\u001b[0;34m.\u001b[0m\u001b[0mget_loc\u001b[0m\u001b[0;34m(\u001b[0m\u001b[0mkey\u001b[0m\u001b[0;34m)\u001b[0m\u001b[0;34m\u001b[0m\u001b[0;34m\u001b[0m\u001b[0m\n\u001b[0m\u001b[1;32m   3459\u001b[0m             \u001b[0;32mif\u001b[0m \u001b[0mis_integer\u001b[0m\u001b[0;34m(\u001b[0m\u001b[0mindexer\u001b[0m\u001b[0;34m)\u001b[0m\u001b[0;34m:\u001b[0m\u001b[0;34m\u001b[0m\u001b[0;34m\u001b[0m\u001b[0m\n\u001b[1;32m   3460\u001b[0m                 \u001b[0mindexer\u001b[0m \u001b[0;34m=\u001b[0m \u001b[0;34m[\u001b[0m\u001b[0mindexer\u001b[0m\u001b[0;34m]\u001b[0m\u001b[0;34m\u001b[0m\u001b[0;34m\u001b[0m\u001b[0m\n",
      "\u001b[0;32m/opt/python/3.7.13/lib/python3.7/site-packages/pandas/core/indexes/base.py\u001b[0m in \u001b[0;36mget_loc\u001b[0;34m(self, key, method, tolerance)\u001b[0m\n\u001b[1;32m   3361\u001b[0m                 \u001b[0;32mreturn\u001b[0m \u001b[0mself\u001b[0m\u001b[0;34m.\u001b[0m\u001b[0m_engine\u001b[0m\u001b[0;34m.\u001b[0m\u001b[0mget_loc\u001b[0m\u001b[0;34m(\u001b[0m\u001b[0mcasted_key\u001b[0m\u001b[0;34m)\u001b[0m\u001b[0;34m\u001b[0m\u001b[0;34m\u001b[0m\u001b[0m\n\u001b[1;32m   3362\u001b[0m             \u001b[0;32mexcept\u001b[0m \u001b[0mKeyError\u001b[0m \u001b[0;32mas\u001b[0m \u001b[0merr\u001b[0m\u001b[0;34m:\u001b[0m\u001b[0;34m\u001b[0m\u001b[0;34m\u001b[0m\u001b[0m\n\u001b[0;32m-> 3363\u001b[0;31m                 \u001b[0;32mraise\u001b[0m \u001b[0mKeyError\u001b[0m\u001b[0;34m(\u001b[0m\u001b[0mkey\u001b[0m\u001b[0;34m)\u001b[0m \u001b[0;32mfrom\u001b[0m \u001b[0merr\u001b[0m\u001b[0;34m\u001b[0m\u001b[0;34m\u001b[0m\u001b[0m\n\u001b[0m\u001b[1;32m   3364\u001b[0m \u001b[0;34m\u001b[0m\u001b[0m\n\u001b[1;32m   3365\u001b[0m         \u001b[0;32mif\u001b[0m \u001b[0mis_scalar\u001b[0m\u001b[0;34m(\u001b[0m\u001b[0mkey\u001b[0m\u001b[0;34m)\u001b[0m \u001b[0;32mand\u001b[0m \u001b[0misna\u001b[0m\u001b[0;34m(\u001b[0m\u001b[0mkey\u001b[0m\u001b[0;34m)\u001b[0m \u001b[0;32mand\u001b[0m \u001b[0;32mnot\u001b[0m \u001b[0mself\u001b[0m\u001b[0;34m.\u001b[0m\u001b[0mhasnans\u001b[0m\u001b[0;34m:\u001b[0m\u001b[0;34m\u001b[0m\u001b[0;34m\u001b[0m\u001b[0m\n",
      "\u001b[0;31mKeyError\u001b[0m: 'Current_vel_mean'"
     ]
    }
   ],
   "source": [
    "subset_na = subset[subset['Current_vel_mean'].isna()] # This code will theoretically work when I fix my subset dataframe"
   ]
  },
  {
   "cell_type": "code",
   "execution_count": null,
   "metadata": {
    "tags": []
   },
   "outputs": [],
   "source": [
    "# View the dataframe \n",
    "subset_na # This will return a view of the dataframe"
   ]
  }
 ],
 "metadata": {
  "kernelspec": {
   "display_name": "Python 3 (ipykernel)",
   "language": "python",
   "name": "python3"
  },
  "language_info": {
   "codemirror_mode": {
    "name": "ipython",
    "version": 3
   },
   "file_extension": ".py",
   "mimetype": "text/x-python",
   "name": "python",
   "nbconvert_exporter": "python",
   "pygments_lexer": "ipython3",
   "version": "3.7.13"
  },
  "vscode": {
   "interpreter": {
    "hash": "fd47fb98a7ce7f6a10c657f2a810bfb9d752313f8f3dd9c5b44bfbb724ce30e0"
   }
  }
 },
 "nbformat": 4,
 "nbformat_minor": 4
}
